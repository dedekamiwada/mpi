{
  "nbformat": 4,
  "nbformat_minor": 0,
  "metadata": {
    "colab": {
      "name": "runningMPI-in-Colab.ipynb",
      "provenance": [],
      "collapsed_sections": [],
      "authorship_tag": "ABX9TyM0Lp6s4TF9kckKhF144Qmr",
      "include_colab_link": true
    },
    "kernelspec": {
      "name": "python3",
      "display_name": "Python 3"
    },
    "language_info": {
      "name": "python"
    }
  },
  "cells": [
    {
      "cell_type": "markdown",
      "metadata": {
        "id": "view-in-github",
        "colab_type": "text"
      },
      "source": [
        "<a href=\"https://colab.research.google.com/github/profmariomenezes/compdist-mpi-start/blob/master/runningMPI_in_Colab.ipynb\" target=\"_parent\"><img src=\"https://colab.research.google.com/assets/colab-badge.svg\" alt=\"Open In Colab\"/></a>"
      ]
    },
    {
      "cell_type": "code",
      "execution_count": null,
      "metadata": {
        "id": "wT_CNHAL8KG_"
      },
      "outputs": [],
      "source": [
        "!apt install openmpi-bin openmpi-common libopenmpi-dev"
      ]
    },
    {
      "cell_type": "code",
      "source": [
        "%%writefile teste-mpi.c\n",
        "#include \"mpi.h\"\n",
        "#include <stdio.h>\n",
        "#include <math.h>\n",
        "#include <unistd.h>\n",
        "#include <stdlib.h>\n",
        "\n",
        "#define MAXSIZE 1000\n",
        "int main(int argc, char **argv)\n",
        "{\n",
        "\tint myid, numprocs;\n",
        "\tint data[MAXSIZE], i, x, low, high, myresult=0, result=0;\n",
        "\tFILE *fp;\n",
        "\tMPI_Init(&argc,&argv);\n",
        "\tMPI_Comm_size(MPI_COMM_WORLD,&numprocs);\n",
        "\tMPI_Comm_rank(MPI_COMM_WORLD,&myid);\n",
        "\tif (myid == 0) {  /* Open input file and initialize data */\n",
        "\t\tif ((fp = fopen(\"rand.txt\",\"r\")) == NULL) {\n",
        "\t\t\tprintf(\"Can't open the input file: rand.txt\\n\\n\");\n",
        "\t\t\texit(1);\n",
        "\t\t}\n",
        "\t\tfor(i = 0; i < MAXSIZE; i++) fscanf(fp,\"%d\\n\", &data[i]);\n",
        "\t}\n",
        "\tMPI_Bcast(data, MAXSIZE, MPI_INT, 0, MPI_COMM_WORLD); /* broadcast data */\n",
        "\tx = MAXSIZE/numprocs; /* Add my portion Of data */\n",
        "\tlow = myid * x;\n",
        "\thigh = low + x;\n",
        "\tfor(i = low; i < high; i++)\n",
        "\t\tmyresult += data[i];\n",
        "\tchar hostname[30];\n",
        "\tgethostname(hostname, 30);\n",
        "\tprintf(\"I got %d from %d - %s\\n\", myresult, myid, hostname); /* Compute global sum */\n",
        "\tMPI_Reduce(&myresult, &result, 1, MPI_INT, MPI_SUM, 0, MPI_COMM_WORLD);\n",
        "\tif (myid == 0) printf(\"The sum is %d.\\n\", result);\n",
        "\tMPI_Finalize();\n",
        "\treturn 0;\n",
        "}\n",
        "\n"
      ],
      "metadata": {
        "id": "IjyITTZb8X4b"
      },
      "execution_count": null,
      "outputs": []
    },
    {
      "cell_type": "code",
      "source": [
        "!mpicc -o teste-mpi teste-mpi.c"
      ],
      "metadata": {
        "id": "e2YZ_O_e8y9s"
      },
      "execution_count": null,
      "outputs": []
    },
    {
      "cell_type": "code",
      "source": [
        "!mpiexec  --allow-run-as-root -n 4 ./teste-mpi"
      ],
      "metadata": {
        "id": "2bGIuJ1q85NZ"
      },
      "execution_count": null,
      "outputs": []
    }
  ]
}